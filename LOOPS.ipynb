{
  "nbformat": 4,
  "nbformat_minor": 0,
  "metadata": {
    "colab": {
      "provenance": [],
      "authorship_tag": "ABX9TyNDdKTww6kxLxdmJslluNwK",
      "include_colab_link": true
    },
    "kernelspec": {
      "name": "python3",
      "display_name": "Python 3"
    },
    "language_info": {
      "name": "python"
    }
  },
  "cells": [
    {
      "cell_type": "markdown",
      "metadata": {
        "id": "view-in-github",
        "colab_type": "text"
      },
      "source": [
        "<a href=\"https://colab.research.google.com/github/Samarth-DataScience/DAMP/blob/main/LOOPS.ipynb\" target=\"_parent\"><img src=\"https://colab.research.google.com/assets/colab-badge.svg\" alt=\"Open In Colab\"/></a>"
      ]
    },
    {
      "cell_type": "markdown",
      "source": [
        "\n",
        "\n",
        "**1.   Find the sum of the series (5+6),(7+7),(9+8), …… 10 terms.**\n",
        "\n"
      ],
      "metadata": {
        "id": "gcQFcIoa7Jll"
      }
    },
    {
      "cell_type": "code",
      "source": [
        "a = 5\n",
        "b = 6\n",
        "n = 0\n",
        "sum = 0\n",
        "while n < 10:\n",
        "  sum = sum + a + b\n",
        "  print(f\"sum at {n+1}th term is {sum}\")\n",
        "  a += 2\n",
        "  b += 1\n",
        "  n += 1"
      ],
      "metadata": {
        "colab": {
          "base_uri": "https://localhost:8080/"
        },
        "id": "LCgG6wA37R8l",
        "outputId": "dcb5d081-2692-471c-bfdc-cb5f63c3e1be"
      },
      "execution_count": 5,
      "outputs": [
        {
          "output_type": "stream",
          "name": "stdout",
          "text": [
            "sum at 1th term is 11\n",
            "sum at 2th term is 25\n",
            "sum at 3th term is 42\n",
            "sum at 4th term is 62\n",
            "sum at 5th term is 85\n",
            "sum at 6th term is 111\n",
            "sum at 7th term is 140\n",
            "sum at 8th term is 172\n",
            "sum at 9th term is 207\n",
            "sum at 10th term is 245\n"
          ]
        }
      ]
    },
    {
      "cell_type": "markdown",
      "source": [
        "\n",
        "\n",
        "**2**.   **Print the series 3,33, 333, 3333, 33333, 333333…. Till n terms.**\n",
        "\n"
      ],
      "metadata": {
        "id": "1vIozse5_ZKe"
      }
    },
    {
      "cell_type": "code",
      "source": [
        "n = int(input(\"Enter the nth term: \"))\n",
        "term = 3\n",
        "\n",
        "for i in range(n):\n",
        "  print(f\"{term}\", end = \", \" if i < n-1  else \" \")\n",
        "  term = (term * 10) + 3"
      ],
      "metadata": {
        "colab": {
          "base_uri": "https://localhost:8080/"
        },
        "id": "TEPqRZQ2_l1G",
        "outputId": "a0ddcf17-9f35-4e2b-986a-370ae450349d"
      },
      "execution_count": 9,
      "outputs": [
        {
          "output_type": "stream",
          "name": "stdout",
          "text": [
            "Enter the nth term: 5\n",
            "3, 33, 333, 3333, 33333 "
          ]
        }
      ]
    },
    {
      "cell_type": "markdown",
      "source": [
        "\n",
        "\n",
        "**3.   Write a program to count the occurrences of each character in a string without using any external libraries or the Counter class.**\n",
        "\n"
      ],
      "metadata": {
        "id": "JGeKHimZDVaY"
      }
    },
    {
      "cell_type": "code",
      "source": [
        "word = str(input(\"Enter the word that to be counted: \"))\n",
        "char_count = {}\n",
        "if not word:\n",
        "    print(\"The input string is empty.\")\n",
        "else:\n",
        "  for char in word:\n",
        "      if char in char_count:\n",
        "        char_count[char] += 1\n",
        "      else:\n",
        "        char_count[char] = 1\n",
        "  for char, count in char_count.items():\n",
        "    print(f\"'{char}' occurrence in word '{word}': {count}\")\n",
        "\n"
      ],
      "metadata": {
        "colab": {
          "base_uri": "https://localhost:8080/"
        },
        "id": "lpk26RjuDZUQ",
        "outputId": "e75996ea-d385-4c8a-b56e-5f0281b72a48"
      },
      "execution_count": 3,
      "outputs": [
        {
          "output_type": "stream",
          "name": "stdout",
          "text": [
            "Enter the word that to be counted: hello world\n",
            "'h' occurrence in word 'hello world': 1\n",
            "'e' occurrence in word 'hello world': 1\n",
            "'l' occurrence in word 'hello world': 3\n",
            "'o' occurrence in word 'hello world': 2\n",
            "' ' occurrence in word 'hello world': 1\n",
            "'w' occurrence in word 'hello world': 1\n",
            "'r' occurrence in word 'hello world': 1\n",
            "'d' occurrence in word 'hello world': 1\n"
          ]
        }
      ]
    },
    {
      "cell_type": "markdown",
      "source": [
        "**4.   Write a program to simulate the \"FizzBuzz\" problem, but with an additional condition: If a number is divisible by 7, print \"Jazz.\" If divisible by 3, 5, and 7, print \"FizzBuzzJazz.**"
      ],
      "metadata": {
        "id": "djDip6OSvT3w"
      }
    },
    {
      "cell_type": "code",
      "source": [
        "number = int(input(\"Please enter the range: \"))\n",
        "\n",
        "for i in range(1, number + 1):\n",
        "    if i % 3 == 0 and i % 5 == 0 and i % 7 == 0:\n",
        "        print(\"FizzBuzzJazz\")\n",
        "    elif i % 3 == 0 and i % 5 == 0:\n",
        "        print(\"FizzBuzz\")\n",
        "    elif i % 7 == 0:\n",
        "        print(\"Jazz\")\n",
        "    elif i % 3 == 0:\n",
        "        print(\"Fizz\")\n",
        "    elif i % 5 == 0:\n",
        "        print(\"Buzz\")\n",
        "    else:\n",
        "        print(i)"
      ],
      "metadata": {
        "colab": {
          "base_uri": "https://localhost:8080/"
        },
        "id": "Rx0sKbl9vblj",
        "outputId": "5977920b-d558-4bda-f47d-b3215ab2a596"
      },
      "execution_count": 7,
      "outputs": [
        {
          "output_type": "stream",
          "name": "stdout",
          "text": [
            "Please enter the range: 20\n",
            "1\n",
            "2\n",
            "Fizz\n",
            "4\n",
            "Buzz\n",
            "Fizz\n",
            "Jazz\n",
            "8\n",
            "Fizz\n",
            "Buzz\n",
            "11\n",
            "Fizz\n",
            "13\n",
            "Jazz\n",
            "FizzBuzz\n",
            "16\n",
            "17\n",
            "Fizz\n",
            "19\n",
            "Buzz\n"
          ]
        }
      ]
    },
    {
      "cell_type": "markdown",
      "source": [
        "**5.   Print the Pattern**\n",
        "\n",
        "![image.png](data:image/png;base64,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)\n",
        "     "
      ],
      "metadata": {
        "id": "Ydf6I3f_zQ-X"
      }
    },
    {
      "cell_type": "code",
      "source": [
        "for i in range(6):\n",
        "  for j in range(6-i,0,-1):\n",
        "    print(j, end = \"\")\n",
        "\n",
        "  print()"
      ],
      "metadata": {
        "colab": {
          "base_uri": "https://localhost:8080/"
        },
        "id": "iszpfEKizcNG",
        "outputId": "5b815e53-841a-4697-8ad7-a45794a780de"
      },
      "execution_count": 11,
      "outputs": [
        {
          "output_type": "stream",
          "name": "stdout",
          "text": [
            "654321\n",
            "54321\n",
            "4321\n",
            "321\n",
            "21\n",
            "1\n"
          ]
        }
      ]
    },
    {
      "cell_type": "markdown",
      "source": [
        "\n",
        "\n",
        "**6.   Print the pattern**\n",
        "\n",
        "![image.png](data:image/png;base64,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)\n",
        "\n"
      ],
      "metadata": {
        "id": "rkQ4Jusc17cg"
      }
    },
    {
      "cell_type": "code",
      "source": [
        "for i in range(6):\n",
        "  for j in range(1,7-i):\n",
        "    print(j, end = \"\")\n",
        "\n",
        "  print()"
      ],
      "metadata": {
        "colab": {
          "base_uri": "https://localhost:8080/"
        },
        "id": "qCBUkeOw2Fyy",
        "outputId": "8ab71bad-ff15-4117-b6d8-5624c4e610e9"
      },
      "execution_count": 12,
      "outputs": [
        {
          "output_type": "stream",
          "name": "stdout",
          "text": [
            "123456\n",
            "12345\n",
            "1234\n",
            "123\n",
            "12\n",
            "1\n"
          ]
        }
      ]
    },
    {
      "cell_type": "markdown",
      "source": [
        "\n",
        "\n",
        "**7.   Print the series.**\n",
        "\n",
        "![image.png](data:image/png;base64,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)\n",
        "\n"
      ],
      "metadata": {
        "id": "suoq51eq2wRh"
      }
    },
    {
      "cell_type": "code",
      "source": [
        "for i in range(7):\n",
        "  for j in range(1,i+1):\n",
        "    print(j, end = \"\")\n",
        "\n",
        "  print()"
      ],
      "metadata": {
        "colab": {
          "base_uri": "https://localhost:8080/"
        },
        "id": "4spETlM928DU",
        "outputId": "9c45a8bd-0b32-4c44-92ff-1288695c17d6"
      },
      "execution_count": 14,
      "outputs": [
        {
          "output_type": "stream",
          "name": "stdout",
          "text": [
            "\n",
            "1\n",
            "12\n",
            "123\n",
            "1234\n",
            "12345\n",
            "123456\n"
          ]
        }
      ]
    }
  ]
}