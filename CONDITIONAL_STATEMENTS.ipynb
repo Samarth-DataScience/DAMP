{
  "nbformat": 4,
  "nbformat_minor": 0,
  "metadata": {
    "colab": {
      "provenance": [],
      "authorship_tag": "ABX9TyMTd73iNIiC6Oh/m8/qCLsG",
      "include_colab_link": true
    },
    "kernelspec": {
      "name": "python3",
      "display_name": "Python 3"
    },
    "language_info": {
      "name": "python"
    }
  },
  "cells": [
    {
      "cell_type": "markdown",
      "metadata": {
        "id": "view-in-github",
        "colab_type": "text"
      },
      "source": [
        "<a href=\"https://colab.research.google.com/github/Samarth-DataScience/DAMP/blob/main/CONDITIONAL_STATEMENTS.ipynb\" target=\"_parent\"><img src=\"https://colab.research.google.com/assets/colab-badge.svg\" alt=\"Open In Colab\"/></a>"
      ]
    },
    {
      "cell_type": "markdown",
      "source": [
        "\n",
        "\n",
        "1.  Take two inputs from the user and tell which number is greater.\n",
        "\n"
      ],
      "metadata": {
        "id": "3IUcqJp7d0s5"
      }
    },
    {
      "cell_type": "code",
      "source": [
        "num1 = float(input(\"Enter the first no: \"))\n",
        "num2 = float(input(\"Enter the second no: \"))\n",
        "\n",
        "if num1 > num2:\n",
        "  print(f\"{num1} is greater than {num2}.\")\n",
        "elif num1 < num2:\n",
        "  print(f\"{num2} is greater than {num1}.\")\n",
        "else:\n",
        "  print(f\"{num1} and {num2} are equal.\")"
      ],
      "metadata": {
        "colab": {
          "base_uri": "https://localhost:8080/"
        },
        "id": "IPAZLbLad7IK",
        "outputId": "d7fa8d30-7f83-40ce-fad5-6db80128c6bc"
      },
      "execution_count": null,
      "outputs": [
        {
          "output_type": "stream",
          "name": "stdout",
          "text": [
            "Enter the first no: 14.6\n",
            "Enter the second no: 21.5\n",
            "21.5 is greater than 14.6.\n"
          ]
        }
      ]
    },
    {
      "cell_type": "markdown",
      "source": [
        "\n",
        "\n",
        "2.   Find the area and perimeter of a rectangle  and find  for the same dimension is perimeter  greater or area greater.\n",
        "\n"
      ],
      "metadata": {
        "id": "Bb7hgbLzfR9q"
      }
    },
    {
      "cell_type": "code",
      "source": [
        "length = float(input(\"Enter the length of a triangle: \"))\n",
        "breadth = float(input(\"Enter the breadth of a triangle: \"))\n",
        "\n",
        "area = length * breadth\n",
        "perimeter = 2*(length + breadth)\n",
        "\n",
        "print(f\"The area of rectangle is: {area}\")\n",
        "print(f\"The perimeter of rectangle is: {perimeter}\")\n",
        "\n",
        "if area > perimeter:\n",
        "  print(\"Area of rectangle is greater than the perimeter of the rectangle.\")\n",
        "elif area < perimeter:\n",
        "  print(\"Area of rectangle is lesser than the perimeter of the rectangle.\")\n",
        "else:\n",
        "  print(\"Both area and perimeter of a rectangle are equal.\")"
      ],
      "metadata": {
        "colab": {
          "base_uri": "https://localhost:8080/"
        },
        "id": "FRAXbJmUfaQR",
        "outputId": "12f7ee5c-4d79-4bc9-9c72-90a1e47a0ad7"
      },
      "execution_count": null,
      "outputs": [
        {
          "output_type": "stream",
          "name": "stdout",
          "text": [
            "Enter the length of a triangle: 14.5\n",
            "Enter the breadth of a triangle: 28.2\n",
            "The area of rectangle is: 408.9\n",
            "The perimeter of rectangle is: 85.4\n",
            "Area of rectangle is greater than the perimeter of the rectangle.\n"
          ]
        }
      ]
    },
    {
      "cell_type": "markdown",
      "source": [
        "\n",
        "\n",
        "3.  Write a program to check whether a given year is a leap year. If the year is divisible by 4 but not by 100, or if it is divisible by 400, classify it as a leap year. Additionally, distinguish between \"Century Leap Year\" (divisible by 400) and \"Common Leap Year\" (divisible by 4 but not by 100). If the year is not a leap year, print \"Not a Leap Year.\n"
      ],
      "metadata": {
        "id": "_ylfdWt8jBza"
      }
    },
    {
      "cell_type": "code",
      "source": [
        "year = int(input(\"Enter the year: \"))\n",
        "if (year % 400 == 0) or (year % 4 == 0 and year % 100 != 0) :\n",
        "  print(f\"{year} is a leap year.\")\n",
        "  if year % 400 == 0 :\n",
        "    print(f\"The year {year} is also a Century Leap Year\")\n",
        "  else:\n",
        "    print(f\"The year {year} is a Common Year.\")\n",
        "\n",
        "else:\n",
        "  print(f\"{year} is not a leap year\")"
      ],
      "metadata": {
        "colab": {
          "base_uri": "https://localhost:8080/"
        },
        "id": "5_ZbmixAjLZJ",
        "outputId": "6a69b95a-9c87-4d46-c6d1-cfea310ae3c0"
      },
      "execution_count": null,
      "outputs": [
        {
          "output_type": "stream",
          "name": "stdout",
          "text": [
            "Enter the year: 2024\n",
            "2024 is a leap year.\n",
            "The year 2024 is a Common Year.\n"
          ]
        }
      ]
    },
    {
      "cell_type": "markdown",
      "source": [
        "\n",
        "\n",
        "4.   Take an input  from the user and  give output  its square root & that too only when the entered number is a  perfect square , else give output as ,”Please enter a valid number.”\n",
        "\n",
        "\n"
      ],
      "metadata": {
        "id": "IBF29Aj5nIgM"
      }
    },
    {
      "cell_type": "code",
      "source": [
        "number = int(input(\"Enter the no: \"))\n",
        "if number < 0:\n",
        "    print(\"Error: Square root of a negative number is undefined in real numbers.\")\n",
        "else:\n",
        "    square_root = (number ** 0.5)\n",
        "    print(f\"The square root of {number} is {square_root:.2f}\")"
      ],
      "metadata": {
        "colab": {
          "base_uri": "https://localhost:8080/"
        },
        "id": "zXdehpN5nLOF",
        "outputId": "ce0d40a1-e31d-4d2a-ea76-b8a474a0750b"
      },
      "execution_count": null,
      "outputs": [
        {
          "output_type": "stream",
          "name": "stdout",
          "text": [
            "Enter the no: 26\n",
            "The square root of 26 is 5.10\n"
          ]
        }
      ]
    },
    {
      "cell_type": "markdown",
      "source": [
        "\n",
        "\n",
        "5.   Enter  two numbers , if the second  number is greater , then swap the number & then divide.\n",
        "\n",
        "\n",
        "\n"
      ],
      "metadata": {
        "id": "BsKih8TjqdZ8"
      }
    },
    {
      "cell_type": "code",
      "source": [
        "num1 = float(input(\"Enter the first no: \"))\n",
        "num2 = float(input(\"Enter the second no: \"))\n",
        "\n",
        "if num2 > num1:\n",
        "  temp = num1\n",
        "  num1 = num2\n",
        "  num2 = temp\n",
        "  division = num1/num2\n",
        "  print(f\"The division of num1 and num2 after swap is {division :.2f}\")\n",
        "else:\n",
        "  print(f\"{num1} is greater than {num2}\")"
      ],
      "metadata": {
        "colab": {
          "base_uri": "https://localhost:8080/"
        },
        "id": "xsjQTx6xqi8s",
        "outputId": "b0a8ba26-137a-4477-aac7-2093c2443ba4"
      },
      "execution_count": null,
      "outputs": [
        {
          "output_type": "stream",
          "name": "stdout",
          "text": [
            "Enter the first no: 23.5\n",
            "Enter the second no: 45\n",
            "The division of num1 and num2 after swap is 1.91\n"
          ]
        }
      ]
    },
    {
      "cell_type": "markdown",
      "source": [
        "\n",
        "\n",
        "6.   Write a program to check loan eligibility based on user input. Take the user's age, income, and credit score as inputs. Apply the following conditions: if the age is 21 or older and the credit score is 700 or higher, display \"Eligible for all loans.\" If the credit score is below 700 but the income is greater than ₹50,000, display \"Eligible for small loans only.\" Otherwise, display \"Not eligible for loans.\"\n",
        "\n",
        "\n"
      ],
      "metadata": {
        "id": "AdRQSYx7stZP"
      }
    },
    {
      "cell_type": "code",
      "source": [
        "age = int(input(\"Enter your age: \"))\n",
        "income = float(input(\"Enter your income: \"))\n",
        "CS = float(input(\"Enter your credit score: \"))\n",
        "\n",
        "if age >= 21 and CS >= 700:\n",
        "  print(\"Eligible for all loans.\")\n",
        "elif CS < 700 and income > 50000:\n",
        "  print(\"Eligible for small loans only.\")\n",
        "else:\n",
        "  print(\"Not eligible for loans.\")"
      ],
      "metadata": {
        "colab": {
          "base_uri": "https://localhost:8080/"
        },
        "id": "T6f4vGVqswa-",
        "outputId": "789bc54f-5df2-4224-f5c5-4409cd933ba8"
      },
      "execution_count": null,
      "outputs": [
        {
          "output_type": "stream",
          "name": "stdout",
          "text": [
            "Enter your age: 25\n",
            "Enter your income: 70000\n",
            "Enter your credit score: 200\n",
            "Eligible for small loans only.\n"
          ]
        }
      ]
    },
    {
      "cell_type": "markdown",
      "source": [
        "\n",
        "\n",
        "7.  Ask the user if their height is in feet (ft) or meters (m) and if their weight is in pounds (lbs) or kilograms (kg).\n",
        "Convert the inputs as needed:\n",
        "If weight is in pounds, convert it to kilograms (1 pound = 0.453592 kg).\n",
        "If height is in feet, convert it to meters (1 foot = 0.3048 meters).\n",
        "Validate the inputs to ensure the weight and height values are within a logical range.\n",
        "Calculate BMI.\n",
        "Provide health advice based on the calculated BMI:\n",
        "\n",
        "    BMI < 18.5: Suggest \"Underweight – Consult a nutritionist.\"\n",
        "    18.5 ≤ BMI < 25: Suggest \"Normal weight – Keep it up!\"\n",
        "    25 ≤ BMI < 30: Suggest \"Overweight – Consider regular exercise.\"\n",
        "    BMI ≥ 30: Suggest \"Obese – Seek medical advice.\"\n",
        "\n",
        "  Ensure the program handles invalid inputs gracefully and gives the user clear prompts for    corrections.\n",
        "\n",
        "\n",
        "![image.png](data:image/png;base64,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)\n",
        "\n"
      ],
      "metadata": {
        "id": "ln7VoTHauXVW"
      }
    },
    {
      "cell_type": "code",
      "source": [
        "height_measurement = int(input(\"Enter 1 if the height is in 'feet' or enter 2 if the height is in 'm':  \"))\n",
        "if height_measurement not in [1,2]:\n",
        "  print(\"invalid input\")\n",
        "height = float(input(\"Enter your height: \"))\n",
        "weight_measurement = int(input(\"Enter 1 if the weight is in 'lbs' or enter 2 if the weight is in 'kg':  \"))\n",
        "if weight_measurement not in [1,2]:\n",
        "  print(\"invalid input\")\n",
        "weight = float(input(\"Enter your weight: \"))\n",
        "\n",
        "if height_measurement == 1:\n",
        "  height = height * 0.3048\n",
        "\n",
        "if weight_measurement == 1:\n",
        "  weight = weight * 0.453592\n",
        "\n",
        "BMI = weight / (height ** 2)\n",
        "\n",
        "print(\"-------------- Loading your health advice ---------------\")\n",
        "\n",
        "if BMI < 18.5:\n",
        "    print(f\"Your BMI is {BMI:.2f}, and you are Underweight. Kindly consult a nutritionist.\")\n",
        "elif 18.5 <= BMI < 25:\n",
        "    print(f\"Your BMI is {BMI:.2f}, and you are in the Normal weight range. Keep it up!\")\n",
        "elif 25 <= BMI < 30:\n",
        "    print(f\"Your BMI is {BMI:.2f}, and you are Overweight. Consider regular exercise.\")\n",
        "else:\n",
        "    print(f\"Your BMI is {BMI:.2f}, and you are Obese. Kindly seek medical advice.\")\n",
        "\n",
        "\n"
      ],
      "metadata": {
        "id": "kYKAfRD3ua5P",
        "colab": {
          "base_uri": "https://localhost:8080/"
        },
        "outputId": "9fa14b8d-77a7-4384-8ada-b065239ce0ea"
      },
      "execution_count": null,
      "outputs": [
        {
          "output_type": "stream",
          "name": "stdout",
          "text": [
            "Enter 1 if the height is in 'feet' or enter 2 if the height is in 'm':  1\n",
            "Enter your height: 5.6\n",
            "Enter 1 if the weight is in 'lbs' or enter 2 if the weight is in 'kg':  2\n",
            "Enter your weight: 50\n",
            "-------------- Loading your health advice ---------------\n",
            "Your BMI is 17.16, and you are Underweight. Kindly consult a nutritionist.\n"
          ]
        }
      ]
    },
    {
      "cell_type": "markdown",
      "source": [
        "\n",
        "\n",
        "8.   Design a program to calculate a shopping bill after applying discounts. Take the total bill amount and the user's membership status (True/False) as input. Apply a 20% discount if the bill exceeds ₹10,000, a 10% discount for bills between ₹5,000 and ₹10,000, and no discount otherwise. If the user is a member, provide an additional 5% discount on the total amount after applying the initial discount. Display the final amount payable.\n"
      ],
      "metadata": {
        "id": "0XGBr2lsOAJZ"
      }
    },
    {
      "cell_type": "code",
      "source": [
        "bill = float(input(\"Enter the total bill amount: \"))\n",
        "membership_input = input(\"Enter the membership status as 'True' or 'False': \").strip().lower()\n",
        "\n",
        "if membership_input == \"true\":\n",
        "    membership = True\n",
        "elif membership_input == \"false\":\n",
        "    membership = False\n",
        "\n",
        "discount = 0\n",
        "if bill > 20000:\n",
        "  if membership:\n",
        "    discount = bill * 0.25\n",
        "  else:\n",
        "    discount = bill * 0.20\n",
        "\n",
        "  print(f\"Bill amount : {bill}\")\n",
        "  print(f\"Discount amont: {discount}\")\n",
        "  print(f\"Final Amount:  {bill - discount}\")\n",
        "\n",
        "\n",
        "elif 10000 > bill > 5000 :\n",
        "  if membership:\n",
        "    discount = bill * 0.15\n",
        "  else:\n",
        "    discount = bill * 0.10\n",
        "\n",
        "  print(f\"Bill amount : {bill}\")\n",
        "  print(f\"Discount amont: {discount}\")\n",
        "  print(f\"Final Amount:  {bill - discount}\")\n",
        "\n",
        "\n",
        "else:\n",
        "  if membership:\n",
        "    discount = bill * 0.05\n",
        "  else:\n",
        "    discount = 0\n",
        "\n",
        "  print(f\"Bill amount : {bill}\")\n",
        "  print(f\"Discount amont: {discount}\")\n",
        "  print(f\"Final Amount:  {bill - discount}\")\n"
      ],
      "metadata": {
        "id": "ICHb50AbOxiM",
        "colab": {
          "base_uri": "https://localhost:8080/"
        },
        "outputId": "dbacf72a-be03-4889-8b27-a31db992541c"
      },
      "execution_count": 6,
      "outputs": [
        {
          "output_type": "stream",
          "name": "stdout",
          "text": [
            "Enter the total bill amount: 25000\n",
            "Enter the membership status as 'True' or 'False': true\n",
            "Bill amount : 25000.0\n",
            "Discount amont: 6250.0\n",
            "Final Amount:  18750.0\n"
          ]
        }
      ]
    },
    {
      "cell_type": "markdown",
      "source": [
        "\n",
        "\n",
        "9.   Write a program that takes the lengths of three sides of a triangle as input and determines the type of triangle: equilateral (all sides equal), isosceles (two sides equal), or scalene (all sides different). If the input values do not form a valid triangle (sum of any two sides is not greater than the third side), display \"Invalid triangle.\n",
        "\n",
        "\n"
      ],
      "metadata": {
        "id": "HeC72Y_84qBI"
      }
    },
    {
      "cell_type": "code",
      "source": [
        "a = float(input(\"Enter the length of first side: \"))\n",
        "b = float(input(\"Enter the length of second side: \"))\n",
        "c = float(input(\"Enter the length of third side: \"))\n",
        "\n",
        "if (a + b) <= c or (b + c) <= a or (c + a) <= b:\n",
        "  print(\"Invalid Triangle\")\n",
        "else:\n",
        "  if a == b == c:\n",
        "    print(\"this is a equilateral trianlge\")\n",
        "  elif a == b or b == c or c == a:\n",
        "    print(\"this is a isosceles trianlge\")\n",
        "  else:\n",
        "    print(\"this is a scalene trianlge\")\n"
      ],
      "metadata": {
        "colab": {
          "base_uri": "https://localhost:8080/"
        },
        "id": "Hqr2M2rm4tvw",
        "outputId": "ff334b56-02f7-4581-9222-ae2426fb8b4c"
      },
      "execution_count": 4,
      "outputs": [
        {
          "output_type": "stream",
          "name": "stdout",
          "text": [
            "Enter the length of first side: 5\n",
            "Enter the length of second side: 2\n",
            "Enter the length of third side: 8\n",
            "Invalid Triangle\n"
          ]
        }
      ]
    },
    {
      "cell_type": "markdown",
      "source": [
        "\n",
        "\n",
        "10.   Write a program to solve a quadratic equation of the form ax^2 + bx + c = 0. Take the coefficients a, b, and c as input and calculate the discriminant. Based on the discriminant, determine whether the equation has real and distinct roots, real and equal roots, or imaginary roots. Display the roots or an appropriate message for imaginary roots.\n",
        "\n",
        "\n"
      ],
      "metadata": {
        "id": "6LcCnR_U2yQj"
      }
    },
    {
      "cell_type": "code",
      "source": [
        "a = float(input(\"Enter first coefficient: \"))\n",
        "b = float(input(\"Enter second coefficient: \"))\n",
        "c = float(input(\"Enter third coefficient: \"))\n",
        "\n",
        "d = (b**2) - (4*a*c)\n",
        "if a == 0:\n",
        "    print(\"This is not a quadratic equation. 'a' must be non-zero.\")\n",
        "else:\n",
        "  if d > 0 :\n",
        "    print(\"The roots are real and distinct\")\n",
        "    print(f\"x1: {(-b + (d ** 0.5))/(2*a)}\")\n",
        "    print(f\"x2: {(-b - (d ** 0.5))/(2*a)}\")\n",
        "\n",
        "  elif d == 0 :\n",
        "    print(\"The roots are real and equal\")\n",
        "    print(f\"x: {(-b)/(2*a)}\")\n",
        "  else:\n",
        "    print(\"The roots are imaginary\")\n",
        "    real_part = -b / (2*a)\n",
        "    imaginary_part = (abs(-d) ** 0.5) / (2*a)\n",
        "    print(f\"x1: {real_part:.2f} + ({imaginary_part:.2f})i\")\n",
        "    print(f\"x2: {real_part:.2f} - ({imaginary_part:.2f})i\")"
      ],
      "metadata": {
        "colab": {
          "base_uri": "https://localhost:8080/"
        },
        "id": "QvYkoyZg208M",
        "outputId": "e0862b30-0ae6-425d-c4bc-1df8cd9351ad"
      },
      "execution_count": 9,
      "outputs": [
        {
          "output_type": "stream",
          "name": "stdout",
          "text": [
            "Enter first coefficient: 3\n",
            "Enter second coefficient: 5\n",
            "Enter third coefficient: 7\n",
            "The roots are imaginary\n",
            "x1: -0.83 + (1.28)i\n",
            "x2: -0.83 - (1.28)i\n"
          ]
        }
      ]
    }
  ]
}